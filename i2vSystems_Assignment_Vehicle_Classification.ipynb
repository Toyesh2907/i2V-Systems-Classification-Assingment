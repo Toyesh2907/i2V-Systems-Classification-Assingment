{
 "cells": [
  {
   "cell_type": "code",
   "execution_count": 3,
   "id": "51993573",
   "metadata": {},
   "outputs": [],
   "source": [
    "import matplotlib.pyplot as plt\n",
    "import pandas as pd\n",
    "import numpy as np\n",
    "import os\n",
    "import cv2\n",
    "import pickle"
   ]
  },
  {
   "cell_type": "code",
   "execution_count": 4,
   "id": "63e4fc06",
   "metadata": {},
   "outputs": [],
   "source": [
    "#initializing directories and class values\n",
    "TRAIN_DATA_DIRECTORY=\"D://Machine Learning//Datasets//Vehicle Dataset//dataset//vehicle_dataset//train\"\n",
    "VALIDATION_DATA_DIRECTORY=\"D://Machine Learning//Datasets//Vehicle Dataset//dataset//vehicle_dataset//val\"\n",
    "CATEGORIES=[\"auto-rickshaw\",\n",
    "\"bicycle\",\n",
    "\"bus\",\n",
    "\"car\",\n",
    "\"e-rickshaw\",\n",
    "\"mini-bus\",\n",
    "\"mini-truck\",\n",
    "\"motorcycle\",\n",
    "\"rickshaw\",\n",
    "\"tractor\",\n",
    "\"truck\",\n",
    "\"van\"]"
   ]
  },
  {
   "cell_type": "code",
   "execution_count": null,
   "id": "a04c27d5",
   "metadata": {},
   "outputs": [],
   "source": [
    "#cleaning train dataset\n",
    "from cleanvision import Imagelab\n",
    "faulty_image_list=[]\n",
    "for vehicle_type in CATEGORIES:\n",
    "    imagelab=Imagelab(data_path=TRAIN_DATA_DIRECTORY+\"//\"+vehicle_type)\n",
    "    imagelab.find_issues()\n",
    "    print(\"REPORT FOR \"+vehicle_type+\" : \")\n",
    "    print(imagelab.report())\n",
    "    near_duplicate_images=imagelab.issues[imagelab.issues[\"is_near_duplicates_issue\"]==True]\n",
    "    near_duplicate_image_files=near_duplicate_images.index.tolist()\n",
    "\n",
    "    exact_duplicate_images=imagelab.issues[imagelab.issues[\"is_exact_duplicates_issue\"]==True]\n",
    "    exact_duplicate_image_files=exact_duplicate_images.index.tolist()\n",
    "\n",
    "    odd_aspect_ratio_images=imagelab.issues[imagelab.issues[\"is_odd_aspect_ratio_issue\"]==True]\n",
    "    odd_aspect_ratio_image_files=odd_aspect_ratio_images.index.to_list()\n",
    "\n",
    "    blurry_images=imagelab.issues[imagelab.issues[\"is_blurry_issue\"]==True]\n",
    "    blurry_image_files=odd_aspect_ratio_images.index.to_list()\n",
    "\n",
    "    faulty_image_list.extend(near_duplicate_image_files)\n",
    "    faulty_image_list.extend(exact_duplicate_image_files)\n",
    "    faulty_image_list.extend(odd_aspect_ratio_image_files)\n",
    "    faulty_image_list.extend(blurry_image_files)"
   ]
  },
  {
   "cell_type": "code",
   "execution_count": null,
   "id": "b45f9a21",
   "metadata": {},
   "outputs": [],
   "source": [
    "faulty_image_list"
   ]
  },
  {
   "cell_type": "code",
   "execution_count": null,
   "id": "8541d69e",
   "metadata": {},
   "outputs": [],
   "source": [
    "for faulty_image in faulty_image_list:\n",
    "    try:\n",
    "        os.remove(faulty_image)\n",
    "    except OSError:\n",
    "        pass"
   ]
  },
  {
   "cell_type": "code",
   "execution_count": null,
   "id": "5dfc08ff",
   "metadata": {},
   "outputs": [],
   "source": [
    "#checking iif the dataset is cleaned\n",
    "faulty_image_list.clear()\n",
    "for vehicle_type in CATEGORIES:\n",
    "    imagelab=Imagelab(data_path=TRAIN_DATA_DIRECTORY+\"//\"+vehicle_type)\n",
    "    imagelab.find_issues()\n",
    "    print(\"REPORT FOR \"+vehicle_type+\" : \")\n",
    "    print(imagelab.report())\n",
    "    near_duplicate_images=imagelab.issues[imagelab.issues[\"is_near_duplicates_issue\"]==True]\n",
    "    near_duplicate_image_files=near_duplicate_images.index.tolist()\n",
    "\n",
    "    exact_duplicate_images=imagelab.issues[imagelab.issues[\"is_exact_duplicates_issue\"]==True]\n",
    "    exact_duplicate_image_files=exact_duplicate_images.index.tolist()\n",
    "\n",
    "    odd_aspect_ratio_images=imagelab.issues[imagelab.issues[\"is_odd_aspect_ratio_issue\"]==True]\n",
    "    odd_aspect_ratio_image_files=odd_aspect_ratio_images.index.to_list()\n",
    "\n",
    "    blurry_images=imagelab.issues[imagelab.issues[\"is_blurry_issue\"]==True]\n",
    "    blurry_image_files=odd_aspect_ratio_images.index.to_list()\n",
    "\n",
    "    faulty_image_list.extend(near_duplicate_image_files)\n",
    "    faulty_image_list.extend(exact_duplicate_image_files)\n",
    "    faulty_image_list.extend(odd_aspect_ratio_image_files)\n",
    "    faulty_image_list.extend(blurry_image_files)"
   ]
  },
  {
   "cell_type": "code",
   "execution_count": null,
   "id": "ce8d3668",
   "metadata": {},
   "outputs": [],
   "source": [
    "faulty_image_list"
   ]
  },
  {
   "cell_type": "code",
   "execution_count": null,
   "id": "bb9bb6a2",
   "metadata": {},
   "outputs": [],
   "source": [
    "#cleaning validation dataset\n",
    "faulty_image_list.clear()\n",
    "for vehicle_type in CATEGORIES:\n",
    "    imagelab=Imagelab(data_path=VALIDATION_DATA_DIRECTORY+\"//\"+vehicle_type)\n",
    "    imagelab.find_issues()\n",
    "    print(\"REPORT FOR \"+vehicle_type+\" : \")\n",
    "    print(imagelab.report())\n",
    "    near_duplicate_images=imagelab.issues[imagelab.issues[\"is_near_duplicates_issue\"]==True]\n",
    "    near_duplicate_image_files=near_duplicate_images.index.tolist()\n",
    "\n",
    "    exact_duplicate_images=imagelab.issues[imagelab.issues[\"is_exact_duplicates_issue\"]==True]\n",
    "    exact_duplicate_image_files=exact_duplicate_images.index.tolist()\n",
    "\n",
    "    odd_aspect_ratio_images=imagelab.issues[imagelab.issues[\"is_odd_aspect_ratio_issue\"]==True]\n",
    "    odd_aspect_ratio_image_files=odd_aspect_ratio_images.index.to_list()\n",
    "\n",
    "    blurry_images=imagelab.issues[imagelab.issues[\"is_blurry_issue\"]==True]\n",
    "    blurry_image_files=odd_aspect_ratio_images.index.to_list()\n",
    "\n",
    "    faulty_image_list.extend(near_duplicate_image_files)\n",
    "    faulty_image_list.extend(exact_duplicate_image_files)\n",
    "    faulty_image_list.extend(odd_aspect_ratio_image_files)\n",
    "    faulty_image_list.extend(blurry_image_files)"
   ]
  },
  {
   "cell_type": "code",
   "execution_count": null,
   "id": "f3c42edc",
   "metadata": {},
   "outputs": [],
   "source": [
    "for faulty_image in faulty_image_list:\n",
    "    try:\n",
    "        os.remove(faulty_image)\n",
    "    except OSError:\n",
    "        pass"
   ]
  },
  {
   "cell_type": "code",
   "execution_count": null,
   "id": "c2b30135",
   "metadata": {},
   "outputs": [],
   "source": [
    "#rechecking for faulty images in validation dataset\n",
    "faulty_image_list.clear()\n",
    "for vehicle_type in CATEGORIES:\n",
    "    imagelab=Imagelab(data_path=VALIDATION_DATA_DIRECTORY+\"//\"+vehicle_type)\n",
    "    imagelab.find_issues()\n",
    "    print(\"REPORT FOR \"+vehicle_type+\" : \")\n",
    "    print(imagelab.report())\n",
    "    near_duplicate_images=imagelab.issues[imagelab.issues[\"is_near_duplicates_issue\"]==True]\n",
    "    near_duplicate_image_files=near_duplicate_images.index.tolist()\n",
    "\n",
    "    exact_duplicate_images=imagelab.issues[imagelab.issues[\"is_exact_duplicates_issue\"]==True]\n",
    "    exact_duplicate_image_files=exact_duplicate_images.index.tolist()\n",
    "\n",
    "    odd_aspect_ratio_images=imagelab.issues[imagelab.issues[\"is_odd_aspect_ratio_issue\"]==True]\n",
    "    odd_aspect_ratio_image_files=odd_aspect_ratio_images.index.to_list()\n",
    "\n",
    "    blurry_images=imagelab.issues[imagelab.issues[\"is_blurry_issue\"]==True]\n",
    "    blurry_image_files=odd_aspect_ratio_images.index.to_list()\n",
    "\n",
    "    faulty_image_list.extend(near_duplicate_image_files)\n",
    "    faulty_image_list.extend(exact_duplicate_image_files)\n",
    "    faulty_image_list.extend(odd_aspect_ratio_image_files)\n",
    "    faulty_image_list.extend(blurry_image_files)"
   ]
  },
  {
   "cell_type": "code",
   "execution_count": null,
   "id": "0a4b621b",
   "metadata": {},
   "outputs": [],
   "source": [
    "faulty_image_list"
   ]
  },
  {
   "cell_type": "code",
   "execution_count": null,
   "id": "39a72461",
   "metadata": {},
   "outputs": [],
   "source": [
    "#preparing training and validation data from dataset\n",
    "def create_data(DATA_DIRECTORY):\n",
    "    data=[]\n",
    "    for category in CATEGORIES:\n",
    "        path=os.path.join(DATA_DIRECTORY,category)\n",
    "        class_num=CATEGORIES.index(category)\n",
    "        for img in os.listdir(path):\n",
    "            try:\n",
    "                img_array=cv2.imread(os.path.join(path,img),cv2.IMREAD_GRAYSCALE)\n",
    "                new_array=cv2.resize(img_array,(255,255))\n",
    "                data.append([new_array,class_num])\n",
    "            except Exception as e:\n",
    "                pass\n",
    "    return data\n",
    "training_data=create_data(TRAIN_DATA_DIRECTORY)\n",
    "validation_data=create_data(VALIDATION_DATA_DIRECTORY)"
   ]
  },
  {
   "cell_type": "code",
   "execution_count": null,
   "id": "6011e5e4",
   "metadata": {},
   "outputs": [],
   "source": [
    "x_train=[]\n",
    "x_test=[]\n",
    "y_train=[]\n",
    "y_test=[]\n",
    "for features,label in training_data:\n",
    "    x_train.append(features)\n",
    "    y_train.append(label)\n",
    "x_train=np.array(x_train).reshape(-1,255,255,1)\n",
    "y_train=np.array(y_train)\n",
    "print(x_train.shape)\n",
    "print(y_train.shape)\n",
    "\n",
    "for features,label in validation_data:\n",
    "    x_test.append(features)\n",
    "    y_test.append(label)\n",
    "x_test=np.array(x_test).reshape(-1,255,255,1)\n",
    "y_test=np.array(y_test)\n",
    "print(x_test.shape)\n",
    "print(y_test.shape)"
   ]
  },
  {
   "cell_type": "code",
   "execution_count": null,
   "id": "0da80da2",
   "metadata": {},
   "outputs": [],
   "source": [
    "#saving training and testing data via pickle\n",
    "#run only when processing for the first time\n",
    "\n",
    "pickle_out=open(\"x_train.pickle\",\"wb\")\n",
    "pickle.dump(x_train,pickle_out)\n",
    "pickle_out.close()\n",
    "\n",
    "pickle_out=open(\"y_train.pickle\",\"wb\")\n",
    "pickle.dump(y_train,pickle_out)\n",
    "pickle_out.close()\n",
    "\n",
    "pickle_out=open(\"x_test.pickle\",\"wb\")\n",
    "pickle.dump(x_train,pickle_out)\n",
    "pickle_out.close()\n",
    "\n",
    "pickle_out=open(\"y_test.pickle\",\"wb\")\n",
    "pickle.dump(y_train,pickle_out)\n",
    "pickle_out.close()"
   ]
  },
  {
   "cell_type": "code",
   "execution_count": 5,
   "id": "c3fb2ca5",
   "metadata": {},
   "outputs": [],
   "source": [
    "#loading training and testing data via pickle\n",
    "pickle_in=open(\"x_train.pickle\",\"rb\")\n",
    "x_train=pickle.load(pickle_in)\n",
    "\n",
    "pickle_in=open(\"y_train.pickle\",\"rb\")\n",
    "y_train=pickle.load(pickle_in)\n",
    "\n",
    "pickle_in=open(\"x_test.pickle\",\"rb\")\n",
    "x_test=pickle.load(pickle_in)\n",
    "\n",
    "pickle_in=open(\"y_test.pickle\",\"rb\")\n",
    "y_test=pickle.load(pickle_in)"
   ]
  },
  {
   "cell_type": "code",
   "execution_count": 6,
   "id": "5dbbf2b0",
   "metadata": {},
   "outputs": [],
   "source": [
    "import tensorflow as tf\n",
    "import datetime\n",
    "from tensorflow.keras.models import Sequential\n",
    "from tensorflow.keras.layers import Dense,Dropout,TimeDistributed,Activation,Reshape,Flatten,GRU,Conv2D,MaxPooling2D,BatchNormalization,LSTM,Reshape"
   ]
  },
  {
   "cell_type": "code",
   "execution_count": 7,
   "id": "d5c5f635",
   "metadata": {},
   "outputs": [],
   "source": [
    "log_dir = \"logs/fit/\" + datetime.datetime.now().strftime(\"%Y%m%d-%H%M%S\")\n",
    "tensorboard_callback = tf.keras.callbacks.TensorBoard(log_dir=log_dir, histogram_freq=1)"
   ]
  },
  {
   "cell_type": "code",
   "execution_count": 8,
   "id": "402b7bf1",
   "metadata": {},
   "outputs": [
    {
     "name": "stdout",
     "output_type": "stream",
     "text": [
      "WARNING:tensorflow:From C:\\Users\\Lenovo\\anaconda3\\Lib\\site-packages\\keras\\src\\backend.py:873: The name tf.get_default_graph is deprecated. Please use tf.compat.v1.get_default_graph instead.\n",
      "\n",
      "WARNING:tensorflow:From C:\\Users\\Lenovo\\anaconda3\\Lib\\site-packages\\keras\\src\\layers\\pooling\\max_pooling2d.py:161: The name tf.nn.max_pool is deprecated. Please use tf.nn.max_pool2d instead.\n",
      "\n"
     ]
    }
   ],
   "source": [
    "#model architecture\n",
    "model=Sequential()\n",
    "\n",
    "model.add(Conv2D(32,(3,3),input_shape=x_train.shape[1:]))\n",
    "model.add(Activation(\"relu\"))\n",
    "model.add(MaxPooling2D(pool_size=(2,2)))\n",
    "model.add(Dropout(0.2))\n",
    "\n",
    "model.add(Conv2D(64,(3,3)))\n",
    "model.add(Activation(\"relu\"))\n",
    "model.add(MaxPooling2D(pool_size=(2,2)))\n",
    "model.add(Dropout(0.2))\n",
    "\n",
    "model.add(Flatten())\n",
    "\n",
    "\n",
    "model.add(Dense(32))\n",
    "model.add(BatchNormalization())\n",
    "model.add(Activation('relu'))\n",
    "model.add(Dropout(0.2))\n",
    "\n",
    "\n",
    "model.add(Dense(len(CATEGORIES)))\n",
    "model.add(Activation('softmax'))\n",
    "\n",
    "model.compile(loss=\"sparse_categorical_crossentropy\",optimizer=\"adam\",metrics=[\"accuracy\"])\n"
   ]
  },
  {
   "cell_type": "code",
   "execution_count": 9,
   "id": "e93b0db3",
   "metadata": {},
   "outputs": [
    {
     "name": "stdout",
     "output_type": "stream",
     "text": [
      "Epoch 1/20\n",
      "WARNING:tensorflow:From C:\\Users\\Lenovo\\anaconda3\\Lib\\site-packages\\keras\\src\\utils\\tf_utils.py:492: The name tf.ragged.RaggedTensorValue is deprecated. Please use tf.compat.v1.ragged.RaggedTensorValue instead.\n",
      "\n",
      "69/69 [==============================] - 43s 588ms/step - loss: 2.0550 - accuracy: 0.3816 - val_loss: 2.1196 - val_accuracy: 0.3721\n",
      "Epoch 2/20\n",
      "69/69 [==============================] - 40s 574ms/step - loss: 1.3533 - accuracy: 0.6025 - val_loss: 2.1901 - val_accuracy: 0.2368\n",
      "Epoch 3/20\n",
      "69/69 [==============================] - 40s 575ms/step - loss: 0.8838 - accuracy: 0.7722 - val_loss: 2.1585 - val_accuracy: 0.2178\n",
      "Epoch 4/20\n",
      "69/69 [==============================] - 40s 578ms/step - loss: 0.5771 - accuracy: 0.8757 - val_loss: 2.4713 - val_accuracy: 0.2328\n",
      "Epoch 5/20\n",
      "69/69 [==============================] - 40s 583ms/step - loss: 0.4024 - accuracy: 0.9274 - val_loss: 1.3479 - val_accuracy: 0.4610\n",
      "Epoch 6/20\n",
      "69/69 [==============================] - 40s 583ms/step - loss: 0.2670 - accuracy: 0.9605 - val_loss: 1.5223 - val_accuracy: 0.4319\n",
      "Epoch 7/20\n",
      "69/69 [==============================] - 41s 589ms/step - loss: 0.1988 - accuracy: 0.9746 - val_loss: 1.4208 - val_accuracy: 0.4247\n",
      "Epoch 8/20\n",
      "69/69 [==============================] - 41s 600ms/step - loss: 0.1458 - accuracy: 0.9850 - val_loss: 0.3170 - val_accuracy: 0.9487\n",
      "Epoch 9/20\n",
      "69/69 [==============================] - 41s 599ms/step - loss: 0.1183 - accuracy: 0.9896 - val_loss: 0.2737 - val_accuracy: 0.9510\n",
      "Epoch 10/20\n",
      "69/69 [==============================] - 40s 588ms/step - loss: 0.0946 - accuracy: 0.9927 - val_loss: 0.2915 - val_accuracy: 0.9478\n",
      "Epoch 11/20\n",
      "69/69 [==============================] - 43s 631ms/step - loss: 0.0828 - accuracy: 0.9905 - val_loss: 0.1209 - val_accuracy: 0.9900\n",
      "Epoch 12/20\n",
      "69/69 [==============================] - 43s 625ms/step - loss: 0.0701 - accuracy: 0.9946 - val_loss: 0.0362 - val_accuracy: 1.0000\n",
      "Epoch 13/20\n",
      "69/69 [==============================] - 42s 617ms/step - loss: 0.0561 - accuracy: 0.9968 - val_loss: 0.1714 - val_accuracy: 0.9483\n",
      "Epoch 14/20\n",
      "69/69 [==============================] - 43s 629ms/step - loss: 0.0502 - accuracy: 0.9955 - val_loss: 0.1080 - val_accuracy: 0.9800\n",
      "Epoch 15/20\n",
      "69/69 [==============================] - 42s 614ms/step - loss: 0.0510 - accuracy: 0.9950 - val_loss: 0.0545 - val_accuracy: 0.9968\n",
      "Epoch 16/20\n",
      "69/69 [==============================] - 43s 632ms/step - loss: 0.0504 - accuracy: 0.9941 - val_loss: 0.0170 - val_accuracy: 0.9995\n",
      "Epoch 17/20\n",
      "69/69 [==============================] - 43s 624ms/step - loss: 0.0380 - accuracy: 0.9968 - val_loss: 0.0471 - val_accuracy: 0.9959\n",
      "Epoch 18/20\n",
      "69/69 [==============================] - 43s 624ms/step - loss: 0.0372 - accuracy: 0.9959 - val_loss: 0.0165 - val_accuracy: 1.0000\n",
      "Epoch 19/20\n",
      "69/69 [==============================] - 42s 617ms/step - loss: 0.0286 - accuracy: 0.9995 - val_loss: 0.0174 - val_accuracy: 1.0000\n",
      "Epoch 20/20\n",
      "69/69 [==============================] - 42s 615ms/step - loss: 0.0291 - accuracy: 0.9986 - val_loss: 0.0366 - val_accuracy: 0.9964\n"
     ]
    },
    {
     "data": {
      "text/plain": [
       "<keras.src.callbacks.History at 0x1df24c40750>"
      ]
     },
     "execution_count": 9,
     "metadata": {},
     "output_type": "execute_result"
    }
   ],
   "source": [
    "#fitting the model\n",
    "model.fit(x_train,y_train,batch_size=32,epochs=20,validation_data=(x_test,y_test),callbacks=[tensorboard_callback])"
   ]
  },
  {
   "cell_type": "code",
   "execution_count": 21,
   "id": "c7778a4d",
   "metadata": {},
   "outputs": [
    {
     "name": "stdout",
     "output_type": "stream",
     "text": [
      "The tensorboard extension is already loaded. To reload it, use:\n",
      "  %reload_ext tensorboard\n"
     ]
    },
    {
     "data": {
      "text/html": [
       "\n",
       "      <iframe id=\"tensorboard-frame-cf30a263c8a3b19f\" width=\"100%\" height=\"800\" frameborder=\"0\">\n",
       "      </iframe>\n",
       "      <script>\n",
       "        (function() {\n",
       "          const frame = document.getElementById(\"tensorboard-frame-cf30a263c8a3b19f\");\n",
       "          const url = new URL(\"/\", window.location);\n",
       "          const port = 6005;\n",
       "          if (port) {\n",
       "            url.port = port;\n",
       "          }\n",
       "          frame.src = url;\n",
       "        })();\n",
       "      </script>\n",
       "    "
      ],
      "text/plain": [
       "<IPython.core.display.HTML object>"
      ]
     },
     "metadata": {},
     "output_type": "display_data"
    }
   ],
   "source": [
    "#tensorboard for visualizing the training process\n",
    "%load_ext tensorboard\n",
    "%tensorboard --logdir logs/fit --port 6005\n"
   ]
  },
  {
   "cell_type": "code",
   "execution_count": 11,
   "id": "e6458138",
   "metadata": {},
   "outputs": [
    {
     "name": "stdout",
     "output_type": "stream",
     "text": [
      "69/69 [==============================] - 6s 89ms/step\n"
     ]
    }
   ],
   "source": [
    "y_pred=model.predict(x_test)"
   ]
  },
  {
   "cell_type": "code",
   "execution_count": 34,
   "id": "446ffd2f",
   "metadata": {},
   "outputs": [
    {
     "name": "stdout",
     "output_type": "stream",
     "text": [
      "{'auto-rickshaw': {'precision': 0.19419237749546278, 'recall': 1.0, 'f1-score': 0.32522796352583583, 'support': 428.0}, 'bicycle': {'precision': 0.0, 'recall': 0.0, 'f1-score': 0.0, 'support': 236.0}, 'bus': {'precision': 0.0, 'recall': 0.0, 'f1-score': 0.0, 'support': 138.0}, 'car': {'precision': 0.0, 'recall': 0.0, 'f1-score': 0.0, 'support': 106.0}, 'e-rickshaw': {'precision': 0.0, 'recall': 0.0, 'f1-score': 0.0, 'support': 97.0}, 'mini-bus': {'precision': 0.0, 'recall': 0.0, 'f1-score': 0.0, 'support': 11.0}, 'mini-truck': {'precision': 0.0, 'recall': 0.0, 'f1-score': 0.0, 'support': 353.0}, 'motorcycle': {'precision': 0.0, 'recall': 0.0, 'f1-score': 0.0, 'support': 236.0}, 'rickshaw': {'precision': 0.0, 'recall': 0.0, 'f1-score': 0.0, 'support': 23.0}, 'tractor': {'precision': 0.0, 'recall': 0.0, 'f1-score': 0.0, 'support': 79.0}, 'truck': {'precision': 0.0, 'recall': 0.0, 'f1-score': 0.0, 'support': 169.0}, 'van': {'precision': 0.0, 'recall': 0.0, 'f1-score': 0.0, 'support': 328.0}, 'accuracy': 0.19419237749546278, 'macro avg': {'precision': 0.0161826981246219, 'recall': 0.08333333333333333, 'f1-score': 0.027102330293819654, 'support': 2204.0}, 'weighted avg': {'precision': 0.037710679477340324, 'recall': 0.19419237749546278, 'f1-score': 0.0631567914650897, 'support': 2204.0}}\n"
     ]
    },
    {
     "name": "stderr",
     "output_type": "stream",
     "text": [
      "C:\\Users\\Lenovo\\anaconda3\\Lib\\site-packages\\sklearn\\metrics\\_classification.py:1469: UndefinedMetricWarning: Precision and F-score are ill-defined and being set to 0.0 in labels with no predicted samples. Use `zero_division` parameter to control this behavior.\n",
      "  _warn_prf(average, modifier, msg_start, len(result))\n",
      "C:\\Users\\Lenovo\\anaconda3\\Lib\\site-packages\\sklearn\\metrics\\_classification.py:1469: UndefinedMetricWarning: Precision and F-score are ill-defined and being set to 0.0 in labels with no predicted samples. Use `zero_division` parameter to control this behavior.\n",
      "  _warn_prf(average, modifier, msg_start, len(result))\n",
      "C:\\Users\\Lenovo\\anaconda3\\Lib\\site-packages\\sklearn\\metrics\\_classification.py:1469: UndefinedMetricWarning: Precision and F-score are ill-defined and being set to 0.0 in labels with no predicted samples. Use `zero_division` parameter to control this behavior.\n",
      "  _warn_prf(average, modifier, msg_start, len(result))\n"
     ]
    }
   ],
   "source": [
    "#creating classification report and confusion matrix\n",
    "#if you want to save the confusion matrix as a csv put output_dict as True otherwise False\n",
    "from sklearn.metrics import classification_report,confusion_matrix\n",
    "class_labels=CATEGORIES\n",
    "y_pred = [ np.argmax(label) for label in y_pred]\n",
    "cr=classification_report(y_test,y_pred,target_names=class_labels,output_dict=True)\n",
    "cm=confusion_matrix(y_test,y_pred)\n",
    "print(cr)"
   ]
  },
  {
   "cell_type": "code",
   "execution_count": 24,
   "id": "604745d4",
   "metadata": {},
   "outputs": [
    {
     "data": {
      "image/png": "[encoded data removed]",
      "text/plain": [
       "<Figure size 1000x1000 with 2 Axes>"
      ]
     },
     "metadata": {},
     "output_type": "display_data"
    }
   ],
   "source": [
    "#plotting the confusion matrix via seaborn heatmap\n",
    "import seaborn as sns\n",
    "\n",
    "fig = plt.subplots(figsize=(10, 10))\n",
    "\n",
    "sns.heatmap(cm,annot=True,xticklabels=class_labels,yticklabels=class_labels)\n",
    "plt.show()"
   ]
  },
  {
   "cell_type": "code",
   "execution_count": 15,
   "id": "742bc66f",
   "metadata": {},
   "outputs": [],
   "source": [
    "#converting tensorflow model to onnx format\n",
    "import onnx\n",
    "import tf2onnx\n",
    "\n",
    "onnx_model, _ = tf2onnx.convert.from_keras(model)\n",
    "onnx.save(onnx_model, \"D:/Machine Learning/saved models/model_onnx.onnx\")"
   ]
  },
  {
   "cell_type": "code",
   "execution_count": 33,
   "id": "d1ec272c",
   "metadata": {},
   "outputs": [],
   "source": [
    "df = pd.DataFrame(cr).transpose()\n",
    "df.to_csv('Classification Report.csv', index= True)"
   ]
  },
  {
   "cell_type": "code",
   "execution_count": null,
   "id": "1bffe2f4",
   "metadata": {},
   "outputs": [],
   "source": []
  }
 ],
 "metadata": {
  "kernelspec": {
   "display_name": "Python 3 (ipykernel)",
   "language": "python",
   "name": "python3"
  },
  "language_info": {
   "codemirror_mode": {
    "name": "ipython",
    "version": 3
   },
   "file_extension": ".py",
   "mimetype": "text/x-python",
   "name": "python",
   "nbconvert_exporter": "python",
   "pygments_lexer": "ipython3",
   "version": "3.11.5"
  }
 },
 "nbformat": 4,
 "nbformat_minor": 5
}
